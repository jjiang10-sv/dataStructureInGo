{
 "cells": [
  {
   "cell_type": "code",
   "execution_count": 3,
   "metadata": {},
   "outputs": [
    {
     "name": "stdout",
     "output_type": "stream",
     "text": [
      "shortest path from A to E is ['A', 'C', 'E']\n"
     ]
    },
    {
     "data": {
      "image/png": "[encoded data removed]",
      "text/plain": [
       "<Figure size 640x480 with 1 Axes>"
      ]
     },
     "metadata": {},
     "output_type": "display_data"
    }
   ],
   "source": [
    "import networkx as nx\n",
    "G = nx.Graph()\n",
    "G.add_edge(\"A\",\"B\", weight=4)\n",
    "G.add_edge(\"A\",\"C\", weight=2)\n",
    "G.add_edge(\"B\",\"D\", weight=12)\n",
    "#G.add_edge(\"A\",\"E\", weight=3)\n",
    "G.add_edge(\"C\",\"E\", weight=5)\n",
    "shortest_path_a_e = nx.shortest_path(G, \"A\", \"E\", weight=\"weight\")\n",
    "print(f\"shortest path from A to E is {shortest_path_a_e}\")\n",
    "nx.draw(G, with_labels = True)"
   ]
  },
  {
   "cell_type": "code",
   "execution_count": 4,
   "metadata": {},
   "outputs": [
    {
     "data": {
      "image/png": "[encoded data removed]",
      "text/plain": [
       "<Figure size 640x480 with 1 Axes>"
      ]
     },
     "metadata": {},
     "output_type": "display_data"
    }
   ],
   "source": [
    "G1 = nx.Graph()\n",
    "G1.add_node(1)\n",
    "G1.add_nodes_from([2,3])\n",
    "G1.add_nodes_from([4,6,5,7,8])\n",
    "\n",
    "G1.add_edge(1,2)\n",
    "G1.add_edge(3,2)\n",
    "G1.add_edge(4,5)\n",
    "G1.add_edge(6,7)\n",
    "G1.add_edge(1,5)\n",
    "G1.add_edge(1,7)\n",
    "nx.draw(G1, with_labels=True)"
   ]
  },
  {
   "cell_type": "code",
   "execution_count": null,
   "metadata": {},
   "outputs": [],
   "source": [
    "G1.add_edges_from([(2,3),(5,7)])\n",
    "node_list = G1.nodes()\n",
    "print(f\"the node list is {node_list}\")\n",
    "edges_list = G1.edges()\n",
    "print(f\" the edges are {edges_list}\")\n",
    "nx.draw(G1, with_labels=True)"
   ]
  },
  {
   "cell_type": "code",
   "execution_count": null,
   "metadata": {},
   "outputs": [],
   "source": [
    "G1.remove_edge(1,2)\n",
    "print(f\"the edge list is {G1.edges()}\")\n",
    "#print(f\"the number of nodes is {G1.number}\")\n",
    "print(f\"the degrees of node 3 is {G1.degree(3)}\")\n",
    "nx.draw(G1, with_labels=True)"
   ]
  },
  {
   "cell_type": "code",
   "execution_count": null,
   "metadata": {},
   "outputs": [],
   "source": [
    "import networkx as nx\n",
    "DG = nx.DiGraph()\n",
    "DG.add_edges_from([(1,2),(2,3),(3,4),(4,5),(5,2),(4,6)])\n",
    "print(f\"the out edges of node 4 are {DG.out_edges(4)}\")\n",
    "print(f\"the in degree of node 2 are {DG.in_degree(2)}\")\n",
    "print(f\"the successor of node 4 are {list(DG.successors(4))}\")\n",
    "print(f\"the predecessors of node 2 are {list(DG.predecessors(2))}\")\n",
    "nx.draw(DG, with_labels=True)"
   ]
  },
  {
   "cell_type": "code",
   "execution_count": null,
   "metadata": {},
   "outputs": [],
   "source": [
    "import matplotlib.pyplot as plt1\n",
    "G2 = nx.Graph()\n",
    "G2.add_edge(1,2,weight_ = 12.5)\n",
    "G2.add_edge(3,2,weight_ = 4.5)\n",
    "G2.add_edge(4,2,weight_ = 3.5)\n",
    "G2.add_edge(5,3,weight_ = 8.5)\n",
    "pos = nx.curcular_layout(G2)\n",
    "nx.draw(G2, pos, with_labels= True)\n",
    "edge_weight = nx.get_edge_attributes(G2, \"weight_\")\n",
    "#nx.draw_networkx_edge_labels\n",
    "plt1.show()"
   ]
  },
  {
   "cell_type": "code",
   "execution_count": null,
   "metadata": {},
   "outputs": [],
   "source": [
    "import matplotlib.pyplot as plt1\n",
    "G = nx.path_graph(8)\n",
    "pos = nx.spring_layout(G,seed=57)\n",
    "nx.draw(G, pos=pos)\n",
    "plt1.show()"
   ]
  },
  {
   "cell_type": "code",
   "execution_count": null,
   "metadata": {},
   "outputs": [],
   "source": [
    "G3 = nx.grid_2d_graph(5,5)\n",
    "for line in nx.generate_adjlist(G3):\n",
    "    print(line)\n",
    "\n",
    "nx.write_edgelist(G3, path=\"grid.edgelist\", delimiter=\":\")\n",
    "H = nx.read_edgelist(path=\"grid.edgelist\", delimiter=\":\")\n",
    "\n",
    "pos = nx.spring_layout(H, seed=200)\n",
    "nx.draw(H,pos)\n",
    "plt1.show()"
   ]
  },
  {
   "cell_type": "code",
   "execution_count": null,
   "metadata": {},
   "outputs": [],
   "source": [
    "import numpy as np\n",
    "import networkx as nx\n",
    "G4 = nx.path_graph(20)\n",
    "center_node = 10\n",
    "edge_nodes = set(G4) - {center_node}\n",
    "pos = nx.circular_layout(G4.subgraph(edge_nodes))\n",
    "#pos[center_node] = np.array([0,0])\n",
    "pos[center_node] = np.array([10,0])\n",
    "nx.draw(G4,pos,with_labels=True)"
   ]
  },
  {
   "cell_type": "code",
   "execution_count": null,
   "metadata": {},
   "outputs": [],
   "source": [
    "import matplotlib.pyplot as plt1\n",
    "G = nx.complete_graph(5, create_using=nx.DiGraph)\n",
    "G.add_edge(0,0)\n",
    "G.add_edge(3,3)\n",
    "G.add_edge(4,4)\n",
    "\n",
    "pos = nx.circular_layout(G)\n",
    "nx.draw(G, pos, with_labels=True)\n",
    "nx.draw_networkx_edges(G, pos, arrowstyle=\"<| -\", style=\"dashed\")\n",
    "plt1.show()"
   ]
  },
  {
   "cell_type": "code",
   "execution_count": null,
   "metadata": {},
   "outputs": [],
   "source": [
    "import networkx as nx\n",
    "import matplotlib.pyplot as plt\n",
    "\n",
    "# Define the number of nodes and the number of edges per new node\n",
    "n_nodes = 2000  # Number of nodes\n",
    "m_edges = 3     # Each new node is connected to 3 existing nodes\n",
    "\n",
    "# Generate the Barabási-Albert graph\n",
    "ba_graph = nx.barabasi_albert_graph(n_nodes, m_edges)\n",
    "\n",
    "# Basic information about the graph\n",
    "print(f\"Number of nodes: {ba_graph.number_of_nodes()}\")\n",
    "print(f\"Number of edges: {ba_graph.number_of_edges()}\")\n",
    "\n",
    "# Plotting a small portion of the graph to visualize (not the full graph due to size)\n",
    "plt.figure(figsize=(8, 8))\n",
    "sample_subgraph = nx.subgraph(ba_graph, range(0, 100))  # Only show a subgraph of 100 nodes\n",
    "nx.draw(sample_subgraph, node_size=50, with_labels=False)\n",
    "plt.show()\n"
   ]
  },
  {
   "cell_type": "code",
   "execution_count": null,
   "metadata": {},
   "outputs": [],
   "source": [
    "import networkx as nx\n",
    "import matplotlib.pyplot as plt\n",
    "\n",
    "# Define the number of leaves (nodes connected to the center)\n",
    "n_leaves = 10  # This means the total nodes will be n_leaves + 1 (the center node)\n",
    "\n",
    "# Create a star graph\n",
    "star_graph = nx.star_graph(n_leaves)\n",
    "\n",
    "# Basic information about the star graph\n",
    "print(f\"Number of nodes: {star_graph.number_of_nodes()}\")\n",
    "print(f\"Number of edges: {star_graph.number_of_edges()}\")\n",
    "\n",
    "# Draw the star graph\n",
    "plt.figure(figsize=(6, 6))\n",
    "nx.draw(star_graph, with_labels=True, node_color=\"lightblue\", node_size=500, font_size=10)\n",
    "plt.title(\"Star Graph with 10 Leaves\")\n",
    "plt.show()\n"
   ]
  },
  {
   "cell_type": "code",
   "execution_count": null,
   "metadata": {},
   "outputs": [],
   "source": [
    "import networkx as nx\n",
    "import matplotlib.pyplot as plt\n",
    "\n",
    "# Create a new graph object to represent the multilayer graph\n",
    "multilayer_graph = nx.Graph()\n",
    "\n",
    "# Adding nodes (nodes can exist across different layers)\n",
    "multilayer_graph.add_nodes_from([1, 2, 3, 4], layer='Layer 1')\n",
    "multilayer_graph.add_nodes_from([1, 2, 3, 4], layer='Layer 2')\n",
    "\n",
    "# Adding edges within the first layer\n",
    "multilayer_graph.add_edges_from([(1, 2), (2, 3), (3, 4)], layer='Layer 1')\n",
    "\n",
    "# Adding edges within the second layer\n",
    "multilayer_graph.add_edges_from([(1, 3), (2, 4)], layer='Layer 2')\n",
    "\n",
    "# Adding inter-layer edges (cross-layer connections)\n",
    "multilayer_graph.add_edge(1, 4, layer='Cross-layer')\n",
    "\n",
    "# Define edge colors based on layers for visualization\n",
    "edge_colors = []\n",
    "for u, v, d in multilayer_graph.edges(data=True):\n",
    "    if d.get('layer') == 'Layer 1':\n",
    "        edge_colors.append('blue')\n",
    "    elif d.get('layer') == 'Layer 2':\n",
    "        edge_colors.append('green')\n",
    "    else:\n",
    "        edge_colors.append('red')  # Cross-layer edges\n",
    "\n",
    "# Drawing the graph\n",
    "pos = nx.spring_layout(multilayer_graph)  # Spring layout for better visualization\n",
    "\n",
    "plt.figure(figsize=(8, 8))\n",
    "nx.draw(multilayer_graph, pos, with_labels=True, edge_color=edge_colors, node_color='lightblue', node_size=500)\n",
    "plt.title('Multilayer Graph with Two Layers and Cross-Layer Connections')\n",
    "plt.show()\n"
   ]
  }
 ],
 "metadata": {
  "kernelspec": {
   "display_name": ".venv",
   "language": "python",
   "name": "python3"
  },
  "language_info": {
   "codemirror_mode": {
    "name": "ipython",
    "version": 3
   },
   "file_extension": ".py",
   "mimetype": "text/x-python",
   "name": "python",
   "nbconvert_exporter": "python",
   "pygments_lexer": "ipython3",
   "version": "3.11.2"
  }
 },
 "nbformat": 4,
 "nbformat_minor": 2
}
